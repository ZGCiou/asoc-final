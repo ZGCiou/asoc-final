{
 "cells": [
  {
   "cell_type": "code",
   "execution_count": 1,
   "metadata": {},
   "outputs": [],
   "source": [
    "from __future__ import print_function\n",
    "\n",
    "import sys\n",
    "import numpy as np\n",
    "from time import time\n",
    "import matplotlib.pyplot as plt \n",
    "\n",
    "sys.path.append('/home/xilinx')\n",
    "from pynq import Overlay\n",
    "from pynq import allocate\n",
    "from pynq import MMIO\n",
    "\n",
    "ROM_SIZE = 0x2000 #8K\n",
    "\n",
    "SOC_UP = 0x0000\n",
    "SOC_LA = 0x1000\n",
    "PL_AA_MB = 0x2000\n",
    "PL_AA = 0x2100\n",
    "SOC_IS = 0x3000\n",
    "SOC_AS = 0x4000\n",
    "SOC_CC = 0x5000\n",
    "PL_AS = 0x6000\n",
    "PL_IS = 0x7000\n",
    "PL_DMA = 0x8000"
   ]
  },
  {
   "cell_type": "code",
   "execution_count": 2,
   "metadata": {
    "scrolled": true
   },
   "outputs": [
    {
     "data": {
      "application/javascript": [
       "\n",
       "try {\n",
       "require(['notebook/js/codecell'], function(codecell) {\n",
       "  codecell.CodeCell.options_default.highlight_modes[\n",
       "      'magic_text/x-csrc'] = {'reg':[/^%%microblaze/]};\n",
       "  Jupyter.notebook.events.one('kernel_ready.Kernel', function(){\n",
       "      Jupyter.notebook.get_cells().map(function(cell){\n",
       "          if (cell.cell_type == 'code'){ cell.auto_highlight(); } }) ;\n",
       "  });\n",
       "});\n",
       "} catch (e) {};\n"
      ]
     },
     "metadata": {},
     "output_type": "display_data"
    },
    {
     "data": {
      "application/javascript": [
       "\n",
       "try {\n",
       "require(['notebook/js/codecell'], function(codecell) {\n",
       "  codecell.CodeCell.options_default.highlight_modes[\n",
       "      'magic_text/x-csrc'] = {'reg':[/^%%pybind11/]};\n",
       "  Jupyter.notebook.events.one('kernel_ready.Kernel', function(){\n",
       "      Jupyter.notebook.get_cells().map(function(cell){\n",
       "          if (cell.cell_type == 'code'){ cell.auto_highlight(); } }) ;\n",
       "  });\n",
       "});\n",
       "} catch (e) {};\n"
      ]
     },
     "metadata": {},
     "output_type": "display_data"
    }
   ],
   "source": [
    "ol = Overlay(\"/home/xilinx/jupyter_notebooks/PS/caravel_fpga.bit\")\n",
    "#ol.ip_dict"
   ]
  },
  {
   "cell_type": "code",
   "execution_count": 3,
   "metadata": {},
   "outputs": [],
   "source": [
    "ipOUTPIN = ol.output_pin_0\n",
    "ipPS = ol.caravel_ps_0\n",
    "# ipReadROMCODE = ol.read_romcode_0\n",
    "\n",
    "#Add for SPI\n",
    "ip_QSPI = ol.axi_quad_spi_0"
   ]
  },
  {
   "cell_type": "code",
   "execution_count": 4,
   "metadata": {},
   "outputs": [],
   "source": [
    "# ============================================\n",
    "# AXI QuadSPI Control\n",
    "# ============================================\n",
    "XSP_DGIER_OFFSET = 0x1C\n",
    "XSP_IISR_OFFSET = 0x20\n",
    "XSP_IIER_OFFSET = 0x28\n",
    "XSP_SRR_OFFSET = 0x40\n",
    "XSP_CR_OFFSET = 0x60\n",
    "XSP_SR_OFFSET = 0x64\n",
    "XSP_DTR_OFFSET = 0x68\n",
    "XSP_DRR_OFFSET = 0x6C\n",
    "XSP_SSR_OFFSET = 0x70\n",
    "XSP_TFO_OFFSET = 0x74\n",
    "XSP_RFO_OFFSET = 0x78\n",
    "XSP_REGISTERS = [0x40, 0x60, 0x64, 0x68, 0x6c, 0x70, 0x74, 0x78, 0x1c, 0x20, 0x28]\n",
    "\n",
    "XSP_SRR_RESET_MASK = 0x0A\n",
    "XSP_SR_TX_EMPTY_MASK = 0x04\n",
    "XSP_SR_TX_FULL_MASK = 0x08\n",
    "XSP_CR_TRANS_INHIBIT_MASK = 0x100\n",
    "XSP_CR_LOOPBACK_MASK = 0x01\n",
    "XSP_CR_ENABLE_MASK = 0x02\n",
    "XSP_CR_MASTER_MODE_MASK = 0x04\n",
    "XSP_CR_CLK_POLARITY_MASK = 0x08\n",
    "XSP_CR_CLK_PHASE_MASK = 0x10\n",
    "XSP_CR_TXFIFO_RESET_MASK = 0x20\n",
    "XSP_CR_RXFIFO_RESET_MASK = 0x40\n",
    "XSP_CR_MANUAL_SS_MASK = 0x80\n",
    "\n",
    "SLAVE_NO_SELECTION = 0xFFFFFFFF\n",
    "\n",
    "def cnfg(AxiQspi, clk_phase=0, clk_pol=0):\n",
    "    print(\"Configure device\")\n",
    "    # Reset the SPI device\n",
    "    AxiQspi.write(XSP_SRR_OFFSET, XSP_SRR_RESET_MASK)\n",
    "    # Enable the transmit empty interrupt, which we use to determine progress on the transmission. \n",
    "    AxiQspi.write(XSP_IIER_OFFSET, XSP_SR_TX_EMPTY_MASK)\n",
    "    # Disable the global IPIF interrupt\n",
    "    AxiQspi.write(XSP_DGIER_OFFSET, 0)\n",
    "    # Deselect the slave on the SPI bus\n",
    "    AxiQspi.write(XSP_SSR_OFFSET, SLAVE_NO_SELECTION)\n",
    "    # Disable the transmitter, enable Manual Slave Select Assertion, put SPI controller into master mode, and enable it\n",
    "    ControlReg = AxiQspi.read(XSP_CR_OFFSET)\n",
    "    ControlReg = ControlReg | XSP_CR_MASTER_MODE_MASK | XSP_CR_MANUAL_SS_MASK | XSP_CR_ENABLE_MASK | XSP_CR_TXFIFO_RESET_MASK | XSP_CR_RXFIFO_RESET_MASK\n",
    "    AxiQspi.write(XSP_CR_OFFSET, ControlReg)\n",
    "    ControlReg = AxiQspi.read(XSP_CR_OFFSET)\n",
    "    ControlReg = ControlReg & ~(XSP_CR_CLK_PHASE_MASK | XSP_CR_CLK_POLARITY_MASK) \n",
    "    if clk_phase == 1:\n",
    "        ControlReg = ControlReg | XSP_CR_CLK_PHASE_MASK\n",
    "    if clk_pol == 1:\n",
    "        ControlReg = ControlReg | XSP_CR_CLK_POLARITY_MASK\n",
    "    AxiQspi.write(XSP_CR_OFFSET, ControlReg)\n",
    "\n",
    "    return 0\n",
    "\n",
    "def write_tx_fifo(AxiQspi):\n",
    "    #print(\"TransferData\")\n",
    "    ControlReg = AxiQspi.read(XSP_CR_OFFSET)\n",
    "    ControlReg = ControlReg & ~XSP_CR_TRANS_INHIBIT_MASK\n",
    "    AxiQspi.write(XSP_CR_OFFSET, ControlReg)\n",
    "\n",
    "    StatusReg = AxiQspi.read(XSP_SR_OFFSET)\n",
    "    while (StatusReg & XSP_SR_TX_EMPTY_MASK) == 0:\n",
    "        StatusReg = AxiQspi.read(XSP_SR_OFFSET)\n",
    "\n",
    "    #print('XSP_RFO_OFFSET  : 0x{0:08x}'.format(AxiQspi.read(XSP_RFO_OFFSET)))\n",
    "    ControlReg = AxiQspi.read(XSP_CR_OFFSET)\n",
    "    ControlReg = ControlReg | XSP_CR_TRANS_INHIBIT_MASK\n",
    "    AxiQspi.write(XSP_CR_OFFSET, ControlReg)\n",
    "\n",
    "\n",
    "def read_rx_fifo(bypass_length, AxiQspi):\n",
    "    #print(\"ReadResponse\")\n",
    "    resp = list()\n",
    "    RxFifoStatus = AxiQspi.read(XSP_SR_OFFSET) & 0x01\n",
    "    \n",
    "    # By pass the FIFO data during master issue command and address to slave device\n",
    "    command_addr_length = bypass_length\n",
    "    counter = 0    \n",
    "    \n",
    "    while RxFifoStatus == 0:\n",
    "        #temp = AxiQspi.read(XSP_RFO_OFFSET)\n",
    "        #print('XSP_RFO_OFFSET  : 0x{0:08x}'.format(temp))\n",
    "        temp = AxiQspi.read(XSP_DRR_OFFSET)\n",
    "        #print('XSP_DRR_OFFSET  : 0x{0:08x}'.format(temp))    \n",
    "\n",
    "        counter = counter + 1\n",
    "        if(counter > command_addr_length):\n",
    "            resp.append(temp)        \n",
    "        \n",
    "        RxFifoStatus = AxiQspi.read(XSP_SR_OFFSET) & 0x01\n",
    "\n",
    "    return resp"
   ]
  },
  {
   "cell_type": "code",
   "execution_count": 5,
   "metadata": {
    "scrolled": false
   },
   "outputs": [
    {
     "name": "stdout",
     "output_type": "stream",
     "text": [
      "0x10 =  0x0\n",
      "0x14 =  0x0\n",
      "0x1c =  0x0\n",
      "0x20 =  0x0\n",
      "0x34 =  0xfffffff7\n",
      "0x38 =  0x3f\n"
     ]
    }
   ],
   "source": [
    "# Check MPRJ_IO input/out/en\n",
    "# 0x10 : Data signal of ps_mprj_in\n",
    "#        bit 31~0 - ps_mprj_in[31:0] (Read/Write)\n",
    "# 0x14 : Data signal of ps_mprj_in\n",
    "#        bit 5~0 - ps_mprj_in[37:32] (Read/Write)\n",
    "#        others  - reserved\n",
    "# 0x1c : Data signal of ps_mprj_out\n",
    "#        bit 31~0 - ps_mprj_out[31:0] (Read)\n",
    "# 0x20 : Data signal of ps_mprj_out\n",
    "#        bit 5~0 - ps_mprj_out[37:32] (Read)\n",
    "#        others  - reserved\n",
    "# 0x34 : Data signal of ps_mprj_en\n",
    "#        bit 31~0 - ps_mprj_en[31:0] (Read)\n",
    "# 0x38 : Data signal of ps_mprj_en\n",
    "#        bit 5~0 - ps_mprj_en[37:32] (Read)\n",
    "#        others  - reserved\n",
    "\n",
    "print (\"0x10 = \", hex(ipPS.read(0x10)))\n",
    "print (\"0x14 = \", hex(ipPS.read(0x14)))\n",
    "print (\"0x1c = \", hex(ipPS.read(0x1c)))\n",
    "print (\"0x20 = \", hex(ipPS.read(0x20)))\n",
    "print (\"0x34 = \", hex(ipPS.read(0x34)))\n",
    "print (\"0x38 = \", hex(ipPS.read(0x38)))\n"
   ]
  },
  {
   "cell_type": "code",
   "execution_count": 6,
   "metadata": {
    "scrolled": true
   },
   "outputs": [
    {
     "name": "stdout",
     "output_type": "stream",
     "text": [
      "0\n",
      "1\n"
     ]
    }
   ],
   "source": [
    "# ============================================\n",
    "# Release Reset First before passthrough mode\n",
    "# ============================================\n",
    "# Release Caravel reset\n",
    "# 0x10 : Data signal of outpin_ctrl\n",
    "#        bit 0  - outpin_ctrl[0] (Read/Write)\n",
    "#        others - reserved\n",
    "print (ipOUTPIN.read(0x10))\n",
    "ipOUTPIN.write(0x10, 1)\n",
    "print (ipOUTPIN.read(0x10))"
   ]
  },
  {
   "cell_type": "code",
   "execution_count": 7,
   "metadata": {},
   "outputs": [],
   "source": [
    "# ============================================\n",
    "# Load firmware (fsic.hex) to memory npROM\n",
    "# ============================================\n",
    "\n",
    "# Create np with 8K/4 (4 bytes per index) size and be initiled to 0\n",
    "npROM = np.zeros(ROM_SIZE >> 2, dtype=np.uint32)\n",
    "\n",
    "npROM_index = 0\n",
    "npROM_offset = 0\n",
    "fiROM = open(\"/home/xilinx/jupyter_notebooks/PS/fsic.hex\", \"r+\")\n",
    "\n",
    "for line in fiROM:\n",
    "    # offset header\n",
    "    if line.startswith('@'):\n",
    "        # Ignore first char @\n",
    "        npROM_offset = int(line[1:].strip(b'\\x00'.decode()), base = 16)\n",
    "        npROM_offset = npROM_offset >> 2 # 4byte per offset\n",
    "        #print (npROM_offset)\n",
    "        npROM_index = 0\n",
    "        continue\n",
    "    #print (line)\n",
    "\n",
    "    # We suppose the data must be 32bit alignment\n",
    "    buffer = 0\n",
    "    bytecount = 0\n",
    "    for line_byte in line.strip(b'\\x00'.decode()).split():\n",
    "        buffer += int(line_byte, base = 16) << (8 * bytecount)\n",
    "        bytecount += 1\n",
    "        # Collect 4 bytes, write to npROM\n",
    "        if(bytecount == 4):\n",
    "            npROM[npROM_offset + npROM_index] = buffer\n",
    "            # Clear buffer and bytecount\n",
    "            buffer = 0\n",
    "            bytecount = 0\n",
    "            npROM_index += 1\n",
    "            #print (npROM_index)\n",
    "            continue\n",
    "    # Fill rest data if not alignment 4 bytes\n",
    "    if (bytecount != 0):\n",
    "        npROM[npROM_offset + npROM_index] = buffer\n",
    "        npROM_index += 1\n",
    "    \n",
    "fiROM.close()"
   ]
  },
  {
   "cell_type": "code",
   "execution_count": 8,
   "metadata": {},
   "outputs": [
    {
     "name": "stdout",
     "output_type": "stream",
     "text": [
      "Configure device\n",
      "XSP_TFO_OFFSET  : 0x00000004\n",
      "XSP_TFO_OFFSET  : 0x00000000\n"
     ]
    }
   ],
   "source": [
    "# ============================================\n",
    "# Enabling passthrou mode\n",
    "# ============================================\n",
    "cnfg(ip_QSPI)\n",
    "# Passthrou mode - Write command\n",
    "ip_QSPI.write(XSP_DTR_OFFSET, 0xC4) # Pass-Through (management)\n",
    "ip_QSPI.write(XSP_DTR_OFFSET, 0x02) # Command: Write data to memory\n",
    "ip_QSPI.write(XSP_DTR_OFFSET, 0x00) # Address_byte0\n",
    "ip_QSPI.write(XSP_DTR_OFFSET, 0x00) # Address_byte1\n",
    "ip_QSPI.write(XSP_DTR_OFFSET, 0x00) # Address_byte2\n",
    "\n",
    "print('XSP_TFO_OFFSET  : 0x{0:08x}'.format(ip_QSPI.read(XSP_TFO_OFFSET)))\n",
    "\n",
    "ip_QSPI.write(XSP_SSR_OFFSET, 0xFFFFFFFE)\n",
    "write_tx_fifo(ip_QSPI)\n",
    "\n",
    "print('XSP_TFO_OFFSET  : 0x{0:08x}'.format(ip_QSPI.read(XSP_TFO_OFFSET)))"
   ]
  },
  {
   "cell_type": "code",
   "execution_count": 9,
   "metadata": {},
   "outputs": [],
   "source": [
    "# ============================================\n",
    "# Writing FW into SPIROM\n",
    "# ============================================\n",
    "# Fill up Tx_FIFO (16) for each write_tx_fifo\n",
    "for index in range (ROM_SIZE >> 2):\n",
    "     # 4 bytes alignment in npROM\n",
    "    for byte_shift in range(4):\n",
    "        tmp = int((npROM[index] >> (byte_shift * 8)) & 0xFF)\n",
    "        ip_QSPI.write(XSP_DTR_OFFSET, tmp) # Write_data\n",
    "    # TX_FIFO = 16, 4 * 4 = 16\n",
    "    if((index % 3) == 3):\n",
    "        write_tx_fifo(ip_QSPI)\n",
    "        \n",
    "# If rest data is not enough 16 bytes. Tx_FIFO is not empty\n",
    "    StatusReg = ip_QSPI.read(XSP_SR_OFFSET)\n",
    "    if ((StatusReg & XSP_SR_TX_EMPTY_MASK) == 0):\n",
    "         write_tx_fifo(ip_QSPI)"
   ]
  },
  {
   "cell_type": "code",
   "execution_count": 10,
   "metadata": {},
   "outputs": [
    {
     "name": "stdout",
     "output_type": "stream",
     "text": [
      "Configure device\n"
     ]
    },
    {
     "data": {
      "text/plain": [
       "0"
      ]
     },
     "execution_count": 10,
     "metadata": {},
     "output_type": "execute_result"
    }
   ],
   "source": [
    "# ============================================\n",
    "# Read SPIROM for testing\n",
    "# ============================================\n",
    "cnfg(ip_QSPI)"
   ]
  },
  {
   "cell_type": "code",
   "execution_count": 11,
   "metadata": {},
   "outputs": [
    {
     "name": "stdout",
     "output_type": "stream",
     "text": [
      "XSP_TFO_OFFSET  : 0x0000000c\n"
     ]
    }
   ],
   "source": [
    "# Test Passthrou mode - Read command\n",
    "ip_QSPI.write(XSP_DTR_OFFSET, 0xC4) # Pass-Through (management)\n",
    "ip_QSPI.write(XSP_DTR_OFFSET, 0x03) # Command: Read data from memory\n",
    "ip_QSPI.write(XSP_DTR_OFFSET, 0x00) # Address_byte0\n",
    "ip_QSPI.write(XSP_DTR_OFFSET, 0x00) # Address_byte1\n",
    "ip_QSPI.write(XSP_DTR_OFFSET, 0x00) # Address_byte2\n",
    "# Write dummy data\n",
    "data_length = 0x8\n",
    "for index in range(data_length):\n",
    "    ip_QSPI.write(XSP_DTR_OFFSET, 0x00) # Dummy data\n",
    "\n",
    "print('XSP_TFO_OFFSET  : 0x{0:08x}'.format(ip_QSPI.read(XSP_TFO_OFFSET)))\n",
    "ip_QSPI.write(XSP_SSR_OFFSET, 0xFFFFFFFE)"
   ]
  },
  {
   "cell_type": "code",
   "execution_count": 12,
   "metadata": {},
   "outputs": [
    {
     "name": "stdout",
     "output_type": "stream",
     "text": [
      "0x6f\n",
      "0x0\n",
      "0x0\n",
      "0xb\n",
      "0x13\n",
      "0x0\n",
      "0x0\n",
      "0x0\n"
     ]
    }
   ],
   "source": [
    "# Issue SPI master cycle\n",
    "write_tx_fifo(ip_QSPI)\n",
    "\n",
    "# Read the Rx data\n",
    "rx_final = read_rx_fifo(5, ip_QSPI)\n",
    "for data in rx_final:\n",
    "    print (hex(data))"
   ]
  },
  {
   "cell_type": "code",
   "execution_count": 13,
   "metadata": {},
   "outputs": [
    {
     "name": "stdout",
     "output_type": "stream",
     "text": [
      "XSP_TFO_OFFSET  : 0x00000007\n"
     ]
    }
   ],
   "source": [
    "# Write dummy data\n",
    "data_length = 0x8\n",
    "for index in range(data_length):\n",
    "    ip_QSPI.write(XSP_DTR_OFFSET, 0x00) # Dummy data\n",
    "\n",
    "print('XSP_TFO_OFFSET  : 0x{0:08x}'.format(ip_QSPI.read(XSP_TFO_OFFSET)))"
   ]
  },
  {
   "cell_type": "code",
   "execution_count": 14,
   "metadata": {},
   "outputs": [
    {
     "name": "stdout",
     "output_type": "stream",
     "text": [
      "0x13\n",
      "0x0\n",
      "0x0\n",
      "0x0\n",
      "0x13\n",
      "0x0\n",
      "0x0\n",
      "0x0\n"
     ]
    }
   ],
   "source": [
    "# Issue SPI master cycle\n",
    "write_tx_fifo(ip_QSPI)\n",
    "\n",
    "# Read the Rx data\n",
    "rx_final = read_rx_fifo(0, ip_QSPI)\n",
    "for data in rx_final:\n",
    "    print (hex(data))"
   ]
  },
  {
   "cell_type": "code",
   "execution_count": 15,
   "metadata": {},
   "outputs": [],
   "source": [
    "# ============================================\n",
    "# Exit passthrou mode, FW will be fetched\n",
    "# ============================================\n",
    "ip_QSPI.write(XSP_SSR_OFFSET, SLAVE_NO_SELECTION)"
   ]
  },
  {
   "cell_type": "code",
   "execution_count": 16,
   "metadata": {
    "scrolled": true
   },
   "outputs": [
    {
     "name": "stdout",
     "output_type": "stream",
     "text": [
      "0x10 =  0x0\n",
      "0x14 =  0x0\n",
      "0x1c =  0x0\n",
      "0x20 =  0x0\n",
      "0x34 =  0x3ffff6\n",
      "0x38 =  0x10\n"
     ]
    }
   ],
   "source": [
    "# Check MPRJ_IO input/out/en\n",
    "# 0x10 : Data signal of ps_mprj_in\n",
    "#        bit 31~0 - ps_mprj_in[31:0] (Read/Write)\n",
    "# 0x14 : Data signal of ps_mprj_in\n",
    "#        bit 5~0 - ps_mprj_in[37:32] (Read/Write)\n",
    "#        others  - reserved\n",
    "# 0x1c : Data signal of ps_mprj_out\n",
    "#        bit 31~0 - ps_mprj_out[31:0] (Read)\n",
    "# 0x20 : Data signal of ps_mprj_out\n",
    "#        bit 5~0 - ps_mprj_out[37:32] (Read)\n",
    "#        others  - reserved\n",
    "# 0x34 : Data signal of ps_mprj_en\n",
    "#        bit 31~0 - ps_mprj_en[31:0] (Read)\n",
    "# 0x38 : Data signal of ps_mprj_en\n",
    "#        bit 5~0 - ps_mprj_en[37:32] (Read)\n",
    "#        others  - reserved\n",
    "\n",
    "print (\"0x10 = \", hex(ipPS.read(0x10)))\n",
    "print (\"0x14 = \", hex(ipPS.read(0x14)))\n",
    "print (\"0x1c = \", hex(ipPS.read(0x1c)))\n",
    "print (\"0x20 = \", hex(ipPS.read(0x20)))\n",
    "print (\"0x34 = \", hex(ipPS.read(0x34)))\n",
    "print (\"0x38 = \", hex(ipPS.read(0x38)))"
   ]
  },
  {
   "cell_type": "code",
   "execution_count": 17,
   "metadata": {},
   "outputs": [],
   "source": [
    "IP_BASE_ADDRESS = 0x60000000\n",
    "ADDRESS_RANGE = 0x9000\n",
    "mmio = MMIO(IP_BASE_ADDRESS, ADDRESS_RANGE)"
   ]
  },
  {
   "cell_type": "code",
   "execution_count": 18,
   "metadata": {},
   "outputs": [],
   "source": [
    "# ====================================================================================== #\n",
    "# ====================================================================================== #\n",
    "# PL_FSIC Side Configuration\n",
    "# ====================================================================================== #\n",
    "# ====================================================================================== #"
   ]
  },
  {
   "cell_type": "code",
   "execution_count": 19,
   "metadata": {},
   "outputs": [
    {
     "name": "stdout",
     "output_type": "stream",
     "text": [
      "mmio.read(ADDRESS_OFFSET):  0x0\n"
     ]
    }
   ],
   "source": [
    "# PL_IS Config\n",
    "ADDRESS_OFFSET = PL_IS #0x7000\n",
    "print(\"mmio.read(ADDRESS_OFFSET): \", hex(mmio.read(ADDRESS_OFFSET)))"
   ]
  },
  {
   "cell_type": "code",
   "execution_count": 20,
   "metadata": {},
   "outputs": [
    {
     "name": "stdout",
     "output_type": "stream",
     "text": [
      "mmio.read(ADDRESS_OFFSET):  0x1\n"
     ]
    }
   ],
   "source": [
    "mmio.write(ADDRESS_OFFSET, 0x12345671)\n",
    "print(\"mmio.read(ADDRESS_OFFSET): \", hex(mmio.read(ADDRESS_OFFSET)))"
   ]
  },
  {
   "cell_type": "code",
   "execution_count": 21,
   "metadata": {},
   "outputs": [
    {
     "name": "stdout",
     "output_type": "stream",
     "text": [
      "mmio.read(ADDRESS_OFFSET):  0x3\n"
     ]
    }
   ],
   "source": [
    "mmio.write(ADDRESS_OFFSET, 0x12345673)\n",
    "print(\"mmio.read(ADDRESS_OFFSET): \", hex(mmio.read(ADDRESS_OFFSET)))"
   ]
  },
  {
   "cell_type": "code",
   "execution_count": 22,
   "metadata": {},
   "outputs": [
    {
     "name": "stdout",
     "output_type": "stream",
     "text": [
      "mmio.read(ADDRESS_OFFSET):  0x6\n",
      "mmio.read(ADDRESS_OFFSET):  0x6\n"
     ]
    }
   ],
   "source": [
    "# PL_AS Config\n",
    "ADDRESS_OFFSET = PL_AS # 0x6000\n",
    "print(\"mmio.read(ADDRESS_OFFSET): \", hex(mmio.read(ADDRESS_OFFSET)))\n",
    "mmio.write(ADDRESS_OFFSET, 0x12345676)\n",
    "print(\"mmio.read(ADDRESS_OFFSET): \", hex(mmio.read(ADDRESS_OFFSET)))"
   ]
  },
  {
   "cell_type": "code",
   "execution_count": 23,
   "metadata": {},
   "outputs": [
    {
     "name": "stdout",
     "output_type": "stream",
     "text": [
      "mmio.read(ADDRESS_OFFSET+0x00):  0x0\n",
      "mmio.read(ADDRESS_OFFSET+0x04):  0x0\n"
     ]
    }
   ],
   "source": [
    "# PL_AA Config\n",
    "ADDRESS_OFFSET = PL_AA # 0x2100\n",
    "print(\"mmio.read(ADDRESS_OFFSET+0x00): \", hex(mmio.read(ADDRESS_OFFSET+0x00)))\n",
    "print(\"mmio.read(ADDRESS_OFFSET+0x04): \", hex(mmio.read(ADDRESS_OFFSET+0x04))) "
   ]
  },
  {
   "cell_type": "code",
   "execution_count": 24,
   "metadata": {},
   "outputs": [],
   "source": [
    "mmio.write(ADDRESS_OFFSET+0x00, 0x11111111)\n",
    "mmio.write(ADDRESS_OFFSET+0x04, 0x22222222)"
   ]
  },
  {
   "cell_type": "code",
   "execution_count": 25,
   "metadata": {},
   "outputs": [
    {
     "name": "stdout",
     "output_type": "stream",
     "text": [
      "mmio.read(ADDRESS_OFFSET):  0x0\n",
      "mmio.read(ADDRESS_OFFSET+0x04):  0x0\n",
      "mmio.read(ADDRESS_OFFSET+0x08):  0x0\n",
      "mmio.read(ADDRESS_OFFSET+0x0C):  0x0\n",
      "mmio.read(ADDRESS_OFFSET+0x10):  0x0\n",
      "mmio.read(ADDRESS_OFFSET+0x14):  0x0\n",
      "mmio.read(ADDRESS_OFFSET+0x18):  0x0\n",
      "mmio.read(ADDRESS_OFFSET+0x1C):  0x0\n"
     ]
    }
   ],
   "source": [
    "# PL_AA_MB Mailbox\n",
    "ADDRESS_OFFSET = PL_AA_MB # 0x2000\n",
    "print(\"mmio.read(ADDRESS_OFFSET): \", hex(mmio.read(ADDRESS_OFFSET)))\n",
    "print(\"mmio.read(ADDRESS_OFFSET+0x04): \", hex(mmio.read(ADDRESS_OFFSET+0x04)))\n",
    "print(\"mmio.read(ADDRESS_OFFSET+0x08): \", hex(mmio.read(ADDRESS_OFFSET+0x08)))\n",
    "print(\"mmio.read(ADDRESS_OFFSET+0x0C): \", hex(mmio.read(ADDRESS_OFFSET+0x0C)))\n",
    "print(\"mmio.read(ADDRESS_OFFSET+0x10): \", hex(mmio.read(ADDRESS_OFFSET+0x10)))\n",
    "print(\"mmio.read(ADDRESS_OFFSET+0x14): \", hex(mmio.read(ADDRESS_OFFSET+0x14)))\n",
    "print(\"mmio.read(ADDRESS_OFFSET+0x18): \", hex(mmio.read(ADDRESS_OFFSET+0x18)))\n",
    "print(\"mmio.read(ADDRESS_OFFSET+0x1C): \", hex(mmio.read(ADDRESS_OFFSET+0x1C)))"
   ]
  },
  {
   "cell_type": "code",
   "execution_count": 26,
   "metadata": {},
   "outputs": [],
   "source": [
    "mmio.write(ADDRESS_OFFSET, 0x11111112)\n",
    "mmio.write(ADDRESS_OFFSET+0x04, 0x22222223)\n",
    "mmio.write(ADDRESS_OFFSET+0x08, 0x33333334)\n",
    "mmio.write(ADDRESS_OFFSET+0x0C, 0x44444445)\n",
    "mmio.write(ADDRESS_OFFSET+0x10, 0x55555556)\n",
    "mmio.write(ADDRESS_OFFSET+0x14, 0x66666667)\n",
    "mmio.write(ADDRESS_OFFSET+0x18, 0x77777778)\n",
    "mmio.write(ADDRESS_OFFSET+0x1C, 0x88888889)"
   ]
  },
  {
   "cell_type": "code",
   "execution_count": 27,
   "metadata": {},
   "outputs": [],
   "source": [
    "# ====================================================================================== #\n",
    "# ====================================================================================== #\n",
    "# PL_Caravel Side Configuration\n",
    "# ====================================================================================== #\n",
    "# ====================================================================================== #"
   ]
  },
  {
   "cell_type": "code",
   "execution_count": 28,
   "metadata": {},
   "outputs": [
    {
     "name": "stdout",
     "output_type": "stream",
     "text": [
      "mmio.read(ADDRESS_OFFSET):  0x1\n"
     ]
    }
   ],
   "source": [
    "# Caravel-IS Config\n",
    "ADDRESS_OFFSET = SOC_IS # 0x3000\n",
    "print(\"mmio.read(ADDRESS_OFFSET): \", hex(mmio.read(ADDRESS_OFFSET)))"
   ]
  },
  {
   "cell_type": "code",
   "execution_count": 29,
   "metadata": {},
   "outputs": [],
   "source": [
    "# Caravel-IS Config\n",
    "ADDRESS_OFFSET = 0x3000\n",
    "mmio.write(ADDRESS_OFFSET, 0x00000003)"
   ]
  },
  {
   "cell_type": "code",
   "execution_count": 30,
   "metadata": {},
   "outputs": [
    {
     "name": "stdout",
     "output_type": "stream",
     "text": [
      "mmio.read(ADDRESS_OFFSET):  0x6\n"
     ]
    }
   ],
   "source": [
    "# Caravel-AS Config\n",
    "ADDRESS_OFFSET = SOC_AS # 0x4000\n",
    "print(\"mmio.read(ADDRESS_OFFSET): \", hex(mmio.read(ADDRESS_OFFSET)))"
   ]
  },
  {
   "cell_type": "code",
   "execution_count": 31,
   "metadata": {},
   "outputs": [],
   "source": [
    "# Caravel-AS Config\n",
    "ADDRESS_OFFSET = SOC_AS # 0x4000\n",
    "mmio.write(ADDRESS_OFFSET, 0x00000006)"
   ]
  },
  {
   "cell_type": "code",
   "execution_count": 32,
   "metadata": {},
   "outputs": [
    {
     "name": "stdout",
     "output_type": "stream",
     "text": [
      "mmio.read(ADDRESS_OFFSET):  0x1f\n"
     ]
    }
   ],
   "source": [
    "# Caravel-CC Config\n",
    "ADDRESS_OFFSET = SOC_CC # 0x5000\n",
    "print(\"mmio.read(ADDRESS_OFFSET): \", hex(mmio.read(ADDRESS_OFFSET)))"
   ]
  },
  {
   "cell_type": "code",
   "execution_count": 33,
   "metadata": {},
   "outputs": [],
   "source": [
    "# Caravel-CC Config\n",
    "ADDRESS_OFFSET = SOC_CC # 0x5000\n",
    "mmio.write(ADDRESS_OFFSET, 0x00000000)"
   ]
  },
  {
   "cell_type": "code",
   "execution_count": 34,
   "metadata": {},
   "outputs": [
    {
     "name": "stdout",
     "output_type": "stream",
     "text": [
      "mmio.read(ADDRESS_OFFSET):  0x280\n"
     ]
    }
   ],
   "source": [
    "# Caravel-UP Config\n",
    "ADDRESS_OFFSET = SOC_UP # 0x0000\n",
    "print(\"mmio.read(ADDRESS_OFFSET): \", hex(mmio.read(ADDRESS_OFFSET+0x04)))"
   ]
  },
  {
   "cell_type": "code",
   "execution_count": 35,
   "metadata": {},
   "outputs": [],
   "source": [
    "# select target UP\n",
    "ADDRESS_OFFSET = SOC_CC # 0x5000\n",
    "mmio.write(ADDRESS_OFFSET, 0x00000001)\n",
    "#print(\"mmio.read(ADDRESS_OFFSET): \", hex(mmio.read(ADDRESS_OFFSET)))"
   ]
  },
  {
   "cell_type": "markdown",
   "metadata": {},
   "source": [
    "## TPU application"
   ]
  },
  {
   "cell_type": "markdown",
   "metadata": {},
   "source": [
    "### Address def"
   ]
  },
  {
   "cell_type": "code",
   "execution_count": 36,
   "metadata": {},
   "outputs": [],
   "source": [
    "TPU_CTRL_OFFSET = 0x00\n",
    "\n",
    "TPU_M_OFFSET = 0x10\n",
    "TPU_K_OFFSET = 0x14\n",
    "TPU_N_OFFSET = 0x18\n",
    "\n",
    "TPU_BUFF_A_ADDR_OFFSET = 0x20\n",
    "TPU_BUFF_A_DIN_OFFSET = 0x24\n",
    "TPU_BUFF_B_ADDR_OFFSET = 0x30\n",
    "TPU_BUFF_B_DIN_OFFSET = 0x34\n",
    "TPU_BUFF_C_ADDR_OFFSET = 0x40\n",
    "TPU_BUFF_C_DOUT_0_OFFSET = 0x44\n",
    "TPU_BUFF_C_DOUT_1_OFFSET = 0x48\n",
    "TPU_BUFF_C_DOUT_2_OFFSET = 0x4c\n",
    "TPU_BUFF_C_DOUT_3_OFFSET = 0x50"
   ]
  },
  {
   "cell_type": "code",
   "execution_count": 127,
   "metadata": {},
   "outputs": [],
   "source": [
    "DEBUG = False"
   ]
  },
  {
   "cell_type": "markdown",
   "metadata": {},
   "source": [
    "### Function def"
   ]
  },
  {
   "cell_type": "code",
   "execution_count": 132,
   "metadata": {},
   "outputs": [],
   "source": [
    "import struct\n",
    "\n",
    "def matrix_mul(matA, matB, k, m, n):\n",
    "    # wait ap_idle\n",
    "    while (mmio.read(SOC_UP + TPU_CTRL_OFFSET) & 0x04) == 0:\n",
    "        continue\n",
    "    # write config\n",
    "    mmio.write(SOC_UP + TPU_M_OFFSET, m)\n",
    "    mmio.write(SOC_UP + TPU_K_OFFSET, k)\n",
    "    mmio.write(SOC_UP + TPU_N_OFFSET, n)\n",
    "    # write matA\n",
    "    nrow = int(k * ((m >> 2) + 1)) if m % 4 != 0 else int(k * (m >> 2))\n",
    "    #print(f'nrow A:{nrow}')\n",
    "    for i in range(nrow):\n",
    "        mmio.write(SOC_UP + TPU_BUFF_A_ADDR_OFFSET, i)\n",
    "        mmio.write(SOC_UP + TPU_BUFF_A_DIN_OFFSET, matA[i]) # TODO\n",
    "    # write matB\n",
    "    nrow = int(k * ((n >> 2) + 1)) if n % 4 != 0 else int(k * (n >> 2))\n",
    "    #print(f'nrow B:{nrow}')\n",
    "    for i in range(nrow):\n",
    "        mmio.write(SOC_UP + TPU_BUFF_B_ADDR_OFFSET, i)\n",
    "        mmio.write(SOC_UP + TPU_BUFF_B_DIN_OFFSET, matB[i]) # TODO\n",
    "    # ap_start\n",
    "    mmio.write(SOC_UP + TPU_CTRL_OFFSET, 0x01)\n",
    "    # wait ap_done\n",
    "    \n",
    "    while (mmio.read(SOC_UP + TPU_CTRL_OFFSET) & 0x02) == 0:\n",
    "        continue\n",
    "    calign = int((n+3)/4)*4\n",
    "    matC_temp = np.zeros((m, calign), dtype=np.int32)\n",
    "\n",
    "    nrow = int(m * ((n >> 2) + 1)) if n % 4 != 0 else int(m * (n >> 2))\n",
    "    for i in range(nrow):\n",
    "        mmio.write(SOC_UP + TPU_BUFF_C_ADDR_OFFSET, i)\n",
    "        c_temp0 = mmio.read(SOC_UP + TPU_BUFF_C_DOUT_0_OFFSET) # TODO\n",
    "        c_temp1 = mmio.read(SOC_UP + TPU_BUFF_C_DOUT_1_OFFSET) # TODO\n",
    "        c_temp2 = mmio.read(SOC_UP + TPU_BUFF_C_DOUT_2_OFFSET) # TODO\n",
    "        c_temp3 = mmio.read(SOC_UP + TPU_BUFF_C_DOUT_3_OFFSET) # TODO\n",
    "        if DEBUG:\n",
    "            print(f'{hex(c_temp3)},{hex(c_temp2)},{hex(c_temp1)},{hex(c_temp0)}')\n",
    "            \n",
    "        m_index = int(i % m)\n",
    "        n_index = int(i / m)\n",
    "        \n",
    "        matC_temp[m_index][n_index*4 + 0] = int(c_temp3)\n",
    "        matC_temp[m_index][n_index*4 + 1] = int(c_temp2)\n",
    "        matC_temp[m_index][n_index*4 + 2] = int(c_temp1)\n",
    "        matC_temp[m_index][n_index*4 + 3] = int(c_temp0)\n",
    "        \n",
    "    matC = matC_temp[:,0:n]\n",
    "    \n",
    "    return matC\n"
   ]
  },
  {
   "cell_type": "code",
   "execution_count": 133,
   "metadata": {},
   "outputs": [],
   "source": [
    "import numpy as np\n",
    "import re\n",
    "\n",
    "def read_numbers(filepath):\n",
    "    numbers = []\n",
    "    with open(filepath, 'r') as file:\n",
    "        for line in file:\n",
    "            # Split line into individual hexadecimal numbers\n",
    "            for hex_str in line.split():\n",
    "                # Convert each hex string to an integer and store it\n",
    "                number = int(hex_str, 16)\n",
    "                numbers.append(number)\n",
    "        return number  # Use yield to return one number at a time\n",
    "\n",
    "def read_input_file(filepath):\n",
    "    with open(filepath, 'r') as file:\n",
    "        first_line = file.readline()  # Read the first line\n",
    "        # Use regular expression to find and extract numbers\n",
    "        numbers_str = re.split(r'\\W+',first_line)\n",
    "        # Convert each string number to integer and store in a list\n",
    "        numbers = [int(num, 16) for num in numbers_str[:-1]]\n",
    "\n",
    "        # Read PATNUM\n",
    "        PATNUM = numbers[0]\n",
    "        K_golden = numbers[1]\n",
    "        M_golden = numbers[2]\n",
    "        N_golden = numbers[3]\n",
    "\n",
    "        for patcount in range(PATNUM):\n",
    "            # Read K, M, N\n",
    "\n",
    "            # Read A Matrix\n",
    "            A_matrix = read_matrix(file, K_golden, M_golden, 0) # mode: 0//int8, 1//int32\n",
    "\n",
    "            # Read B Matrix\n",
    "            B_matrix = read_matrix(file, K_golden, N_golden, 0) # mode: 0//int8, 1//int32\n",
    "\n",
    "            # Read Golden Matrix\n",
    "            golden_matrix = read_matrix(file, M_golden, N_golden, 1)\n",
    "\n",
    "            if DEBUG:\n",
    "                print(f\"K_golden: {K_golden}, M_golden: {M_golden}, N_golden: {N_golden}\")\n",
    "                print(\"A_matrix:\", A_matrix)\n",
    "                print(\"B_matrix:\", B_matrix)\n",
    "                print(\"Golden_matrix:\", golden_matrix)\n",
    "    return A_matrix, B_matrix, K_golden, M_golden, N_golden\n",
    "\n",
    "def read_matrix(file, rows, cols, mode):\n",
    "    nrow = (cols & 0x3 != 0) * rows * ((cols >> 2) + 1) + (cols & 0x3 == 0) * rows * (cols >> 2)\n",
    "    matrix = []\n",
    "\n",
    "    for i in range(nrow):\n",
    "        while(1):\n",
    "            line = file.readline().strip().split()\n",
    "            if line !=[]:\n",
    "                break\n",
    "        rbuf = [int(x, 16) for x in line]\n",
    "        if mode:\n",
    "            int128_value = ((rbuf[0] & 0xFFFF) << 96) | ((rbuf[1] & 0xFFFF) << 64) | ((rbuf[2] & 0xFFFF) << 32) | ((rbuf[3] & 0xFFFF) << 0)\n",
    "            matrix.append(int128_value)\n",
    "        else:\n",
    "            int32_value = ((rbuf[0] & 0xFF) << 24) | ((rbuf[1] & 0xFF) << 16) | ((rbuf[2] & 0xFF) << 8) | ((rbuf[3] & 0xFF) << 0)\n",
    "            matrix.append(int32_value)\n",
    "    \n",
    "    return matrix"
   ]
  },
  {
   "cell_type": "code",
   "execution_count": 148,
   "metadata": {},
   "outputs": [
    {
     "data": {
      "text/plain": [
       "array([[10508, 26042],\n",
       "       [12391, 28813]])"
      ]
     },
     "execution_count": 148,
     "metadata": {},
     "output_type": "execute_result"
    }
   ],
   "source": [
    "# Pattern 0\n",
    "filepath = \"/home/xilinx/jupyter_notebooks/PS/input0.txt\"\n",
    "matA, matB, k, m, n = read_input_file(filepath)\n",
    "matrix_mul(matA, matB, k, m, n)"
   ]
  },
  {
   "cell_type": "code",
   "execution_count": 149,
   "metadata": {},
   "outputs": [
    {
     "data": {
      "text/plain": [
       "array([[42655, 46402, 52966, 48211],\n",
       "       [72284, 77356, 76244, 54911],\n",
       "       [54083, 64382, 61155, 32507],\n",
       "       [92613, 55246, 67097, 44616]])"
      ]
     },
     "execution_count": 149,
     "metadata": {},
     "output_type": "execute_result"
    }
   ],
   "source": [
    "# Pattern 1\n",
    "filepath = \"/home/xilinx/jupyter_notebooks/PS/input1.txt\"\n",
    "matA, matB, k, m, n = read_input_file(filepath)\n",
    "matrix_mul(matA, matB, k, m, n)"
   ]
  },
  {
   "cell_type": "code",
   "execution_count": 150,
   "metadata": {},
   "outputs": [
    {
     "data": {
      "text/plain": [
       "array([[257544, 282056, 247302, 273224],\n",
       "       [217173, 322973, 318826, 321325],\n",
       "       [215332, 305971, 271182, 275131],\n",
       "       [144806, 211321, 186570, 178815]])"
      ]
     },
     "execution_count": 150,
     "metadata": {},
     "output_type": "execute_result"
    }
   ],
   "source": [
    "# Pattern 2\n",
    "filepath = \"/home/xilinx/jupyter_notebooks/PS/input2.txt\"\n",
    "matA, matB, k, m, n = read_input_file(filepath)\n",
    "matrix_mul(matA, matB, k, m, n)"
   ]
  },
  {
   "cell_type": "code",
   "execution_count": 151,
   "metadata": {},
   "outputs": [
    {
     "data": {
      "text/plain": [
       "array([[191603, 148591, 180584, 143078, 123093, 215895, 160457, 102397,\n",
       "        181006],\n",
       "       [302761, 196791, 261155, 144023, 207904, 266165, 191987, 211105,\n",
       "        215770],\n",
       "       [298663, 229956, 305909, 195132, 233333, 302714, 207584, 227801,\n",
       "        212764],\n",
       "       [257556, 175886, 213371, 171674, 194718, 245988, 208329, 205362,\n",
       "        215941]])"
      ]
     },
     "execution_count": 151,
     "metadata": {},
     "output_type": "execute_result"
    }
   ],
   "source": [
    "# Pattern 3\n",
    "filepath = \"/home/xilinx/jupyter_notebooks/PS/input3.txt\"\n",
    "matA, matB, k, m, n = read_input_file(filepath)\n",
    "matrix_mul(matA, matB, k, m, n)"
   ]
  },
  {
   "cell_type": "code",
   "execution_count": null,
   "metadata": {},
   "outputs": [],
   "source": []
  }
 ],
 "metadata": {
  "kernelspec": {
   "display_name": "Python 3 (ipykernel)",
   "language": "python",
   "name": "python3"
  },
  "language_info": {
   "codemirror_mode": {
    "name": "ipython",
    "version": 3
   },
   "file_extension": ".py",
   "mimetype": "text/x-python",
   "name": "python",
   "nbconvert_exporter": "python",
   "pygments_lexer": "ipython3",
   "version": "3.10.4"
  }
 },
 "nbformat": 4,
 "nbformat_minor": 2
}
